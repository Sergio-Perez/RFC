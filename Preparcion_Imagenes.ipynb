{
 "cells": [
  {
   "cell_type": "code",
   "execution_count": 7,
   "metadata": {},
   "outputs": [],
   "source": [
    "%matplotlib inline\n",
    "import pandas as pd\n",
    "import matplotlib.pyplot as plt\n",
    "import matplotlib.image as mpimg\n",
    "import numpy as np\n",
    "import re\n",
    "from numpy import asarray\n",
    "from numpy import savez_compressed\n",
    "from src.descargardataset import descargarDataset\n",
    "from src.configuracion import PathTest,PathTraining\n",
    "from src.renombrar import renombrarFrutas"
   ]
  },
  {
   "cell_type": "markdown",
   "metadata": {},
   "source": [
    "### Preparo los datos de entrenamiento"
   ]
  },
  {
   "cell_type": "code",
   "execution_count": 8,
   "metadata": {},
   "outputs": [
    {
     "name": "stdout",
     "output_type": "stream",
     "text": [
      "((60486, 45, 45, 3), (60486,))\n"
     ]
    }
   ],
   "source": [
    "clase,imagen_fruta = descargarDataset(PathTraining)\n",
    "print((imagen_fruta.shape,clase.shape))"
   ]
  },
  {
   "cell_type": "code",
   "execution_count": 9,
   "metadata": {},
   "outputs": [
    {
     "data": {
      "text/plain": [
       "<matplotlib.image.AxesImage at 0x7f43390ac860>"
      ]
     },
     "execution_count": 9,
     "metadata": {},
     "output_type": "execute_result"
    },
    {
     "data": {
      "image/png": "[encoded data removed]",
      "text/plain": [
       "<Figure size 432x288 with 1 Axes>"
      ]
     },
     "metadata": {
      "needs_background": "light"
     },
     "output_type": "display_data"
    }
   ],
   "source": [
    "plt.imshow(imagen_fruta[55678])"
   ]
  },
  {
   "cell_type": "code",
   "execution_count": 10,
   "metadata": {},
   "outputs": [
    {
     "name": "stdout",
     "output_type": "stream",
     "text": [
      "['Apple Golden 3' 'Apple Golden 3' 'Apple Golden 3' ... 'Pitahaya Red'\n",
      " 'Pitahaya Red' 'Pitahaya Red']\n"
     ]
    }
   ],
   "source": [
    "print(clase)"
   ]
  },
  {
   "cell_type": "markdown",
   "metadata": {},
   "source": [
    "### Renombrar las frutas \n"
   ]
  },
  {
   "cell_type": "code",
   "execution_count": 11,
   "metadata": {},
   "outputs": [
    {
     "data": {
      "text/plain": [
       "(60486,)"
      ]
     },
     "execution_count": 11,
     "metadata": {},
     "output_type": "execute_result"
    }
   ],
   "source": [
    "nombre_frutas_corregido = np.array(renombrarFrutas(clase))\n",
    "(nombre_frutas_corregido.shape)"
   ]
  },
  {
   "cell_type": "markdown",
   "metadata": {},
   "source": [
    "#### Voy a crear una etiqueta para cada fruta"
   ]
  },
  {
   "cell_type": "code",
   "execution_count": 12,
   "metadata": {},
   "outputs": [
    {
     "data": {
      "text/plain": [
       "{'Apple Braeburn': 0,\n",
       " 'Apple Crimson Snow': 1,\n",
       " 'Apple Golden ': 2,\n",
       " 'Apple Granny Smith': 3,\n",
       " 'Apple Pink Lady': 4,\n",
       " 'Apple Red ': 5,\n",
       " 'Apple Red Delicious': 6,\n",
       " 'Apple Red Yellow ': 7,\n",
       " 'Apricot': 8,\n",
       " 'Avocado': 9,\n",
       " 'Avocado ripe': 10,\n",
       " 'Banana': 11,\n",
       " 'Banana Lady Finger': 12,\n",
       " 'Banana Red': 13,\n",
       " 'Beetroot': 14,\n",
       " 'Blueberry': 15,\n",
       " 'Cactus fruit': 16,\n",
       " 'Cantaloupe ': 17,\n",
       " 'Carambula': 18,\n",
       " 'Cauliflower': 19,\n",
       " 'Cherry ': 20,\n",
       " 'Cherry Rainier': 21,\n",
       " 'Cherry Wax Black': 22,\n",
       " 'Cherry Wax Red': 23,\n",
       " 'Cherry Wax Yellow': 24,\n",
       " 'Chestnut': 25,\n",
       " 'Clementine': 26,\n",
       " 'Cocos': 27,\n",
       " 'Dates': 28,\n",
       " 'Eggplant': 29,\n",
       " 'Ginger Root': 30,\n",
       " 'Granadilla': 31,\n",
       " 'Grape Blue': 32,\n",
       " 'Grape Pink': 33,\n",
       " 'Grape White': 34,\n",
       " 'Grape White ': 35,\n",
       " 'Grapefruit Pink': 36,\n",
       " 'Grapefruit White': 37,\n",
       " 'Guava': 38,\n",
       " 'Hazelnut': 39,\n",
       " 'Huckleberry': 40,\n",
       " 'Kaki': 41,\n",
       " 'Kiwi': 42,\n",
       " 'Kohlrabi': 43,\n",
       " 'Kumquats': 44,\n",
       " 'Lemon': 45,\n",
       " 'Lemon Meyer': 46,\n",
       " 'Limes': 47,\n",
       " 'Lychee': 48,\n",
       " 'Mandarine': 49,\n",
       " 'Mango': 50,\n",
       " 'Mango Red': 51,\n",
       " 'Mangostan': 52,\n",
       " 'Maracuja': 53,\n",
       " 'Melon Piel de Sapo': 54,\n",
       " 'Mulberry': 55,\n",
       " 'Nectarine': 56,\n",
       " 'Nectarine Flat': 57,\n",
       " 'Nut Forest': 58,\n",
       " 'Nut Pecan': 59,\n",
       " 'Onion Red': 60,\n",
       " 'Onion Red Peeled': 61,\n",
       " 'Onion White': 62,\n",
       " 'Orange': 63,\n",
       " 'Papaya': 64,\n",
       " 'Passion Fruit': 65,\n",
       " 'Peach': 66,\n",
       " 'Peach ': 67,\n",
       " 'Peach Flat': 68,\n",
       " 'Pear': 69,\n",
       " 'Pear Abate': 70,\n",
       " 'Pear Forelle': 71,\n",
       " 'Pear Kaiser': 72,\n",
       " 'Pear Monster': 73,\n",
       " 'Pear Red': 74,\n",
       " 'Pear Williams': 75,\n",
       " 'Pepino': 76,\n",
       " 'Pepper Green': 77,\n",
       " 'Pepper Red': 78,\n",
       " 'Pepper Yellow': 79,\n",
       " 'Physalis': 80,\n",
       " 'Physalis with Husk': 81,\n",
       " 'Pineapple': 82,\n",
       " 'Pineapple Mini': 83,\n",
       " 'Pitahaya Red': 84,\n",
       " 'Plum': 85,\n",
       " 'Plum ': 86,\n",
       " 'Pomegranate': 87,\n",
       " 'Pomelo Sweetie': 88,\n",
       " 'Potato Red': 89,\n",
       " 'Potato Red Washed': 90,\n",
       " 'Potato Sweet': 91,\n",
       " 'Potato White': 92,\n",
       " 'Quince': 93,\n",
       " 'Rambutan': 94,\n",
       " 'Raspberry': 95,\n",
       " 'Redcurrant': 96,\n",
       " 'Salak': 97,\n",
       " 'Strawberry': 98,\n",
       " 'Strawberry Wedge': 99,\n",
       " 'Tamarillo': 100,\n",
       " 'Tangelo': 101,\n",
       " 'Tomato ': 102,\n",
       " 'Tomato Cherry Red': 103,\n",
       " 'Tomato Maroon': 104,\n",
       " 'Tomato Yellow': 105,\n",
       " 'Walnut': 106}"
      ]
     },
     "metadata": {},
     "output_type": "display_data"
    }
   ],
   "source": [
    "nombres_fruta ={elemento:indice for indice,elemento in enumerate(np.unique(nombre_frutas_corregido))}\n",
    "display(nombres_fruta)"
   ]
  },
  {
   "cell_type": "code",
   "execution_count": 13,
   "metadata": {},
   "outputs": [
    {
     "data": {
      "text/plain": [
       "((60486,), (60486, 45, 45, 3))"
      ]
     },
     "execution_count": 13,
     "metadata": {},
     "output_type": "execute_result"
    }
   ],
   "source": [
    "etiqueta_fruta = np.array([nombres_fruta[x] for x in nombre_frutas_corregido])\n",
    "etiqueta_fruta.shape,imagen_fruta.shape"
   ]
  },
  {
   "cell_type": "markdown",
   "metadata": {},
   "source": [
    "## Preparo los datos para el test\n"
   ]
  },
  {
   "cell_type": "markdown",
   "metadata": {},
   "source": [
    "### Descargo el dataset de test"
   ]
  },
  {
   "cell_type": "code",
   "execution_count": 14,
   "metadata": {},
   "outputs": [],
   "source": [
    "test_clase,test_imagenes = descargarDataset(PathTest)"
   ]
  },
  {
   "cell_type": "code",
   "execution_count": 15,
   "metadata": {},
   "outputs": [
    {
     "data": {
      "text/plain": [
       "((20618,), (20618, 45, 45, 3))"
      ]
     },
     "execution_count": 15,
     "metadata": {},
     "output_type": "execute_result"
    }
   ],
   "source": [
    "test_clase.shape,test_imagenes.shape"
   ]
  },
  {
   "cell_type": "code",
   "execution_count": 16,
   "metadata": {},
   "outputs": [
    {
     "data": {
      "text/plain": [
       "<matplotlib.image.AxesImage at 0x7f43392842b0>"
      ]
     },
     "execution_count": 16,
     "metadata": {},
     "output_type": "execute_result"
    },
    {
     "data": {
      "image/png": "[encoded data removed]",
      "text/plain": [
       "<Figure size 432x288 with 1 Axes>"
      ]
     },
     "metadata": {
      "needs_background": "light"
     },
     "output_type": "display_data"
    }
   ],
   "source": [
    "plt.imshow(test_imagenes[6000])\n"
   ]
  },
  {
   "cell_type": "markdown",
   "metadata": {},
   "source": [
    "### Renombrar el nombre de las frutas\n"
   ]
  },
  {
   "cell_type": "code",
   "execution_count": 17,
   "metadata": {},
   "outputs": [],
   "source": [
    "test_clase_corregido =renombrarFrutas(test_clase)"
   ]
  },
  {
   "cell_type": "markdown",
   "metadata": {},
   "source": [
    "#### Voy a crear una etiqueta para cada fruta"
   ]
  },
  {
   "cell_type": "code",
   "execution_count": 18,
   "metadata": {},
   "outputs": [
    {
     "data": {
      "text/plain": [
       "(20618,)"
      ]
     },
     "execution_count": 18,
     "metadata": {},
     "output_type": "execute_result"
    }
   ],
   "source": [
    "nombres_fruta_testeo ={elemento:indice for indice,elemento in enumerate(np.unique(test_clase_corregido))}\n",
    "test_etiqueta = np.array([nombres_fruta_testeo[x] for x in test_clase_corregido])\n",
    "test_etiqueta.shape\n"
   ]
  },
  {
   "cell_type": "code",
   "execution_count": 19,
   "metadata": {},
   "outputs": [
    {
     "name": "stdout",
     "output_type": "stream",
     "text": [
      "(20618,) (20618, 45, 45, 3) (20618,)\n"
     ]
    }
   ],
   "source": [
    "print(test_clase.shape,test_imagenes.shape,test_etiqueta.shape)"
   ]
  },
  {
   "cell_type": "markdown",
   "metadata": {},
   "source": [
    "### Creamos unos archivos con los datos terminados\n"
   ]
  },
  {
   "cell_type": "code",
   "execution_count": 32,
   "metadata": {},
   "outputs": [],
   "source": [
    "lista_archivos_guardar = [\"test_imagenes\",\"test_etiqueta\",\"etiqueta_fruta\",\"imagen_fruta\"]\n",
    "np.save(f'./Input/test_etiqueta', test_etiqueta)\n",
    "np.save(f'./Input/etiqueta_fruta', etiqueta_fruta)\n",
    "np.save(f'./Input/imagen_fruta', imagen_fruta)\n",
    "np.save(f'./Input/test_imagenes', test_imagenes)"
   ]
  },
  {
   "cell_type": "code",
   "execution_count": 31,
   "metadata": {},
   "outputs": [],
   "source": []
  },
  {
   "cell_type": "code",
   "execution_count": null,
   "metadata": {},
   "outputs": [],
   "source": []
  }
 ],
 "metadata": {
  "kernelspec": {
   "display_name": "Python 3",
   "language": "python",
   "name": "python3"
  },
  "language_info": {
   "codemirror_mode": {
    "name": "ipython",
    "version": 3
   },
   "file_extension": ".py",
   "mimetype": "text/x-python",
   "name": "python",
   "nbconvert_exporter": "python",
   "pygments_lexer": "ipython3",
   "version": "3.6.9"
  }
 },
 "nbformat": 4,
 "nbformat_minor": 4
}
