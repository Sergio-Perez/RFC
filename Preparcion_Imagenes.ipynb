{
 "cells": [
  {
   "cell_type": "code",
   "execution_count": 47,
   "metadata": {},
   "outputs": [],
   "source": [
    "%matplotlib inline\n",
    "import pandas as pd\n",
    "import matplotlib.pyplot as plt\n",
    "import matplotlib.image as mpimg\n",
    "import numpy as np\n",
    "import re\n",
    "from numpy import asarray\n",
    "from numpy import savez_compressed\n",
    "from src.descargardataset import descargarDataset\n",
    "from src.configuracion import PathTest,PathTraining\n",
    "from src.renombrar import renombrarFrutas\n",
    "\n"
   ]
  },
  {
   "cell_type": "markdown",
   "metadata": {},
   "source": [
    "### Preparo los datos de entrenamiento"
   ]
  },
  {
   "cell_type": "code",
   "execution_count": 48,
   "metadata": {},
   "outputs": [
    {
     "name": "stdout",
     "output_type": "stream",
     "text": [
      "((70709, 35, 35, 3), (70709,))\n"
     ]
    }
   ],
   "source": [
    "clase,imagen_fruta = descargarDataset(PathTraining)\n",
    "print((imagen_fruta.shape,clase.shape))"
   ]
  },
  {
   "cell_type": "code",
   "execution_count": 169,
   "metadata": {},
   "outputs": [
    {
     "name": "stdout",
     "output_type": "stream",
     "text": [
      "['Apple Braeburn' 'Apple Crimson Snow' 'Apple Golden 1' 'Apple Golden 2'\n",
      " 'Apple Golden 3' 'Apple Granny Smith' 'Apple Pink Lady' 'Apple Red 1'\n",
      " 'Apple Red 2' 'Apple Red 3' 'Apple Red Delicious' 'Apple Red Yellow 1'\n",
      " 'Apple Red Yellow 2' 'Apricot' 'Avocado' 'Avocado ripe' 'Banana'\n",
      " 'Banana Lady Finger' 'Banana Red' 'Beetroot' 'Blueberry' 'Cactus fruit'\n",
      " 'Cantaloupe 1' 'Cantaloupe 2' 'Carambula' 'Cauliflower' 'Cherry 1'\n",
      " 'Cherry 2' 'Cherry Rainier' 'Cherry Wax Black' 'Cherry Wax Red'\n",
      " 'Cherry Wax Yellow' 'Chestnut' 'Clementine' 'Cocos' 'Datil' 'Eggplant'\n",
      " 'Ginger Root' 'Granadilla' 'Grape Blue' 'Grape Pink' 'Grape White'\n",
      " 'Grape White 2' 'Grape White 3' 'Grape White 4' 'Grapefruit Pink'\n",
      " 'Grapefruit White' 'Guava' 'Hazelnut' 'Huckleberry' 'Kaki' 'Kiwi'\n",
      " 'Kohlrabi' 'Kumquats' 'Lemon' 'Lemon Meyer' 'Limes' 'Lychee' 'Mandarine'\n",
      " 'Mango' 'Mango Red' 'Mangostan' 'Maracuja' 'Melon Piel de Sapo'\n",
      " 'Mulberry' 'Nectarine' 'Nectarine Flat' 'Nut Forest' 'Nut Pecan'\n",
      " 'Onion Red' 'Onion Red Peeled' 'Onion White' 'Orange' 'Papaya'\n",
      " 'Passion Fruit' 'Peach' 'Peach 2' 'Peach Flat' 'Pear' 'Pear Abate'\n",
      " 'Pear Forelle' 'Pear Kaiser' 'Pear Monster' 'Pear Red' 'Pear Williams'\n",
      " 'Pepino' 'Pepper Green' 'Pepper Red' 'Pepper Yellow' 'Physalis'\n",
      " 'Physalis with Husk' 'Pineapple' 'Pineapple Mini' 'Pitahaya Red' 'Plum'\n",
      " 'Plum 2' 'Plum 3' 'Pomegranate' 'Pomelo Sweetie' 'Potato Red'\n",
      " 'Potato Red Washed' 'Potato Sweet' 'Potato White' 'Quince' 'Rambutan'\n",
      " 'Raspberry' 'Redcurrant' 'Salak' 'Strawberry' 'Strawberry Wedge'\n",
      " 'Tamarillo' 'Tangelo' 'Tomato 1' 'Tomato 2' 'Tomato 3' 'Tomato 4'\n",
      " 'Tomato Cherry Red' 'Tomato Maroon' 'Tomato Yellow' 'Walnut']\n"
     ]
    }
   ],
   "source": [
    "print(np.unique(clase))"
   ]
  },
  {
   "cell_type": "code",
   "execution_count": 50,
   "metadata": {},
   "outputs": [
    {
     "data": {
      "text/plain": [
       "<matplotlib.image.AxesImage at 0x7f84b34ee580>"
      ]
     },
     "execution_count": 50,
     "metadata": {},
     "output_type": "execute_result"
    },
    {
     "data": {
      "image/png": "[encoded data removed]",
      "text/plain": [
       "<Figure size 432x288 with 1 Axes>"
      ]
     },
     "metadata": {
      "needs_background": "light"
     },
     "output_type": "display_data"
    }
   ],
   "source": [
    "plt.imshow(imagen_fruta[5819])"
   ]
  },
  {
   "cell_type": "code",
   "execution_count": 51,
   "metadata": {},
   "outputs": [
    {
     "name": "stdout",
     "output_type": "stream",
     "text": [
      "['Cherry 1' 'Cherry 1' 'Cherry 1' ... 'Apricot' 'Apricot' 'Apricot']\n"
     ]
    }
   ],
   "source": [
    "print(clase)"
   ]
  },
  {
   "cell_type": "markdown",
   "metadata": {},
   "source": [
    "### Renombrar las frutas \n"
   ]
  },
  {
   "cell_type": "code",
   "execution_count": 141,
   "metadata": {},
   "outputs": [
    {
     "name": "stdout",
     "output_type": "stream",
     "text": [
      "107\n"
     ]
    }
   ],
   "source": [
    "nombre_frutas_corregido = np.array(renombrarFrutas(clase))\n",
    "(nombre_frutas_corregido.shape)\n",
    "print(len(np.unique(nombre_frutas_corregido)))\n"
   ]
  },
  {
   "cell_type": "markdown",
   "metadata": {},
   "source": [
    "### Agrupo los nombres de las frutas"
   ]
  },
  {
   "cell_type": "code",
   "execution_count": 142,
   "metadata": {},
   "outputs": [
    {
     "name": "stdout",
     "output_type": "stream",
     "text": [
      "63\n"
     ]
    }
   ],
   "source": [
    "nombres_reducidos = [x.split()[0] for x in nombre_frutas_corregido] \n",
    "print(len(np.unique(nombres_reducidos)))"
   ]
  },
  {
   "cell_type": "markdown",
   "metadata": {},
   "source": [
    "#### Voy a crear una etiqueta para cada fruta"
   ]
  },
  {
   "cell_type": "code",
   "execution_count": 131,
   "metadata": {},
   "outputs": [
    {
     "data": {
      "text/plain": [
       "{'Apple': 0,\n",
       " 'Apricot': 1,\n",
       " 'Avocado': 2,\n",
       " 'Banana': 3,\n",
       " 'Beetroot': 4,\n",
       " 'Blueberry': 5,\n",
       " 'Cactus': 6,\n",
       " 'Cantaloupe': 7,\n",
       " 'Carambula': 8,\n",
       " 'Cauliflower': 9,\n",
       " 'Cherry': 10,\n",
       " 'Chestnut': 11,\n",
       " 'Clementine': 12,\n",
       " 'Cocos': 13,\n",
       " 'Datil': 14,\n",
       " 'Eggplant': 15,\n",
       " 'Ginger': 16,\n",
       " 'Granadilla': 17,\n",
       " 'Grape': 18,\n",
       " 'Grapefruit': 19,\n",
       " 'Guava': 20,\n",
       " 'Hazelnut': 21,\n",
       " 'Huckleberry': 22,\n",
       " 'Kaki': 23,\n",
       " 'Kiwi': 24,\n",
       " 'Kohlrabi': 25,\n",
       " 'Kumquats': 26,\n",
       " 'Lemon': 27,\n",
       " 'Limes': 28,\n",
       " 'Lychee': 29,\n",
       " 'Mandarine': 30,\n",
       " 'Mango': 31,\n",
       " 'Mangostan': 32,\n",
       " 'Maracuja': 33,\n",
       " 'Melon': 34,\n",
       " 'Mulberry': 35,\n",
       " 'Nectarine': 36,\n",
       " 'Nut': 37,\n",
       " 'Onion': 38,\n",
       " 'Orange': 39,\n",
       " 'Papaya': 40,\n",
       " 'Passion': 41,\n",
       " 'Peach': 42,\n",
       " 'Pear': 43,\n",
       " 'Pepino': 44,\n",
       " 'Pepper': 45,\n",
       " 'Physalis': 46,\n",
       " 'Pineapple': 47,\n",
       " 'Pitahaya': 48,\n",
       " 'Plum': 49,\n",
       " 'Pomegranate': 50,\n",
       " 'Pomelo': 51,\n",
       " 'Potato': 52,\n",
       " 'Quince': 53,\n",
       " 'Rambutan': 54,\n",
       " 'Raspberry': 55,\n",
       " 'Redcurrant': 56,\n",
       " 'Salak': 57,\n",
       " 'Strawberry': 58,\n",
       " 'Tamarillo': 59,\n",
       " 'Tangelo': 60,\n",
       " 'Tomato': 61,\n",
       " 'Walnut': 62}"
      ]
     },
     "metadata": {},
     "output_type": "display_data"
    }
   ],
   "source": [
    "nombres_fruta ={elemento:indice for indice,elemento in enumerate(np.unique(nombres_reducidos))}\n",
    "display(nombres_fruta)"
   ]
  },
  {
   "cell_type": "code",
   "execution_count": 132,
   "metadata": {},
   "outputs": [
    {
     "data": {
      "text/plain": [
       "((70709,), (70709, 35, 35, 3))"
      ]
     },
     "execution_count": 132,
     "metadata": {},
     "output_type": "execute_result"
    }
   ],
   "source": [
    "etiqueta_fruta = np.array([nombres_fruta[x] for x in nombres_reducidos])\n",
    "etiqueta_fruta.shape,imagen_fruta.shape"
   ]
  },
  {
   "cell_type": "markdown",
   "metadata": {},
   "source": [
    "## Preparo los datos para el test\n"
   ]
  },
  {
   "cell_type": "markdown",
   "metadata": {},
   "source": [
    "### Descargo el dataset de test"
   ]
  },
  {
   "cell_type": "code",
   "execution_count": 147,
   "metadata": {},
   "outputs": [],
   "source": [
    "test_clase,test_imagenes = descargarDataset(PathTest)"
   ]
  },
  {
   "cell_type": "code",
   "execution_count": 148,
   "metadata": {},
   "outputs": [
    {
     "data": {
      "text/plain": [
       "((20624,), (20624, 35, 35, 3))"
      ]
     },
     "execution_count": 148,
     "metadata": {},
     "output_type": "execute_result"
    }
   ],
   "source": [
    "test_clase.shape,test_imagenes.shape"
   ]
  },
  {
   "cell_type": "code",
   "execution_count": 149,
   "metadata": {},
   "outputs": [
    {
     "data": {
      "text/plain": [
       "<matplotlib.image.AxesImage at 0x7f84b305ff10>"
      ]
     },
     "execution_count": 149,
     "metadata": {},
     "output_type": "execute_result"
    },
    {
     "data": {
      "image/png": "[encoded data removed]",
      "text/plain": [
       "<Figure size 432x288 with 1 Axes>"
      ]
     },
     "metadata": {
      "needs_background": "light"
     },
     "output_type": "display_data"
    }
   ],
   "source": [
    "plt.imshow(test_imagenes[6000])\n"
   ]
  },
  {
   "cell_type": "markdown",
   "metadata": {},
   "source": [
    "### Renombrar el nombre de las frutas\n"
   ]
  },
  {
   "cell_type": "code",
   "execution_count": 154,
   "metadata": {},
   "outputs": [
    {
     "name": "stdout",
     "output_type": "stream",
     "text": [
      "['Apple Braeburn' 'Apple Crimson Snow' 'Apple Golden '\n",
      " 'Apple Granny Smith' 'Apple Pink Lady' 'Apple Red ' 'Apple Red Delicious'\n",
      " 'Apple Red Yellow ' 'Apricot' 'Avocado' 'Avocado ripe' 'Banana'\n",
      " 'Banana Lady Finger' 'Banana Red' 'Beetroot' 'Blueberry' 'Cactus fruit'\n",
      " 'Cantaloupe ' 'Carambula' 'Cauliflower' 'Cherry ' 'Cherry Rainier'\n",
      " 'Cherry Wax Black' 'Cherry Wax Red' 'Cherry Wax Yellow' 'Chestnut'\n",
      " 'Clementine' 'Cocos' 'Datil' 'Eggplant' 'Ginger Root' 'Granadilla'\n",
      " 'Grape Blue' 'Grape Pink' 'Grape White' 'Grape White ' 'Grapefruit Pink'\n",
      " 'Grapefruit White' 'Guava' 'Hazelnut' 'Huckleberry' 'Kaki' 'Kiwi'\n",
      " 'Kohlrabi' 'Kumquats' 'Lemon' 'Lemon Meyer' 'Limes' 'Lychee' 'Mandarine'\n",
      " 'Mango' 'Mango Red' 'Mangostan' 'Maracuja' 'Melon Piel de Sapo'\n",
      " 'Mulberry' 'Nectarine' 'Nectarine Flat' 'Nut Forest' 'Nut Pecan'\n",
      " 'Onion Red' 'Onion Red Peeled' 'Onion White' 'Orange' 'Papaya'\n",
      " 'Passion Fruit' 'Peach' 'Peach ' 'Peach Flat' 'Pear' 'Pear Abate'\n",
      " 'Pear Forelle' 'Pear Kaiser' 'Pear Monster' 'Pear Red' 'Pear Williams'\n",
      " 'Pepino' 'Pepper Green' 'Pepper Red' 'Pepper Yellow' 'Physalis'\n",
      " 'Physalis with Husk' 'Pineapple' 'Pineapple Mini' 'Pitahaya Red' 'Plum'\n",
      " 'Plum ' 'Pomegranate' 'Pomelo Sweetie' 'Potato Red' 'Potato Red Washed'\n",
      " 'Potato Sweet' 'Potato White' 'Quince' 'Rambutan' 'Raspberry'\n",
      " 'Redcurrant' 'Salak' 'Strawberry' 'Strawberry Wedge' 'Tamarillo'\n",
      " 'Tangelo' 'Tomato ' 'Tomato Cherry Red' 'Tomato Maroon' 'Tomato Yellow'\n",
      " 'Walnut']\n"
     ]
    }
   ],
   "source": [
    "test_clase_corregido = renombrarFrutas(test_clase)\n",
    "print(np.unique(test_clase_corregido))"
   ]
  },
  {
   "cell_type": "code",
   "execution_count": 156,
   "metadata": {},
   "outputs": [
    {
     "name": "stdout",
     "output_type": "stream",
     "text": [
      "63\n"
     ]
    },
    {
     "data": {
      "text/plain": [
       "20624"
      ]
     },
     "execution_count": 156,
     "metadata": {},
     "output_type": "execute_result"
    }
   ],
   "source": [
    "nombres_reducidos_testeo = [x.split()[0] for x in test_clase_corregido] \n",
    "print(len(np.unique(nombres_reducidos_testeo)))\n",
    "len(nombres_reducidos_testeo)"
   ]
  },
  {
   "cell_type": "markdown",
   "metadata": {},
   "source": [
    "#### Voy a crear una etiqueta para cada fruta"
   ]
  },
  {
   "cell_type": "code",
   "execution_count": 161,
   "metadata": {},
   "outputs": [
    {
     "data": {
      "text/plain": [
       "(20624,)"
      ]
     },
     "execution_count": 161,
     "metadata": {},
     "output_type": "execute_result"
    }
   ],
   "source": [
    "nombres_fruta_testeo ={elemento:indice for indice,elemento in enumerate(np.unique(nombres_reducidos_testeo))}\n",
    "test_etiqueta = np.array([nombres_fruta_testeo[x] for x in nombres_reducidos_testeo])\n",
    "test_etiqueta.shape\n"
   ]
  },
  {
   "cell_type": "code",
   "execution_count": 162,
   "metadata": {},
   "outputs": [
    {
     "name": "stdout",
     "output_type": "stream",
     "text": [
      "(20624,) (20624, 35, 35, 3) (20624,)\n"
     ]
    }
   ],
   "source": [
    "print(test_clase.shape,test_imagenes.shape,test_etiqueta.shape)"
   ]
  },
  {
   "cell_type": "markdown",
   "metadata": {},
   "source": [
    "### Creamos unos archivos con los datos terminados\n"
   ]
  },
  {
   "cell_type": "code",
   "execution_count": 189,
   "metadata": {},
   "outputs": [],
   "source": [
    "lista_archivos_guardar = [\"test_imagenes\",\"test_etiqueta\",\"etiqueta_fruta\",\"imagen_fruta\"]\n",
    "np.save(f'./Input/test_etiqueta', test_etiqueta)\n",
    "np.save(f'./Input/etiqueta_fruta', etiqueta_fruta)\n",
    "np.save(f'./Input/imagen_fruta', imagen_fruta)\n",
    "np.save(f'./Input/test_imagenes', test_imagenes)\n",
    "np.save(f'./Input/test_clase_corregido', test_clase_corregido)\n",
    "\n",
    "np.save(f'./Input/nombre_frutas_corregido', nombres_fruta)"
   ]
  },
  {
   "cell_type": "code",
   "execution_count": 271,
   "metadata": {},
   "outputs": [],
   "source": [
    "df=pd.DataFrame(nombres_fruta,index=[0])\n",
    "df.to_csv(\"./Input/nombre_Frutas.csv\",index=False)"
   ]
  }
 ],
 "metadata": {
  "kernelspec": {
   "display_name": "Python 3",
   "language": "python",
   "name": "python3"
  },
  "language_info": {
   "codemirror_mode": {
    "name": "ipython",
    "version": 3
   },
   "file_extension": ".py",
   "mimetype": "text/x-python",
   "name": "python",
   "nbconvert_exporter": "python",
   "pygments_lexer": "ipython3",
   "version": "3.8.2"
  }
 },
 "nbformat": 4,
 "nbformat_minor": 4
}
