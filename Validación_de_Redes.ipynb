{
 "cells": [
  {
   "cell_type": "markdown",
   "metadata": {},
   "source": [
    "### Importamos modulos"
   ]
  },
  {
   "cell_type": "code",
   "execution_count": 2,
   "metadata": {},
   "outputs": [
    {
     "name": "stderr",
     "output_type": "stream",
     "text": [
      "Using TensorFlow backend.\n"
     ]
    }
   ],
   "source": [
    "import numpy as np\n",
    "from numpy import load\n",
    "import pandas as pd\n",
    "import keras\n",
    "from keras.models import Sequential\n",
    "from keras.layers import Dense, Dropout, Flatten, Conv2D, MaxPooling2D\n",
    "from keras.layers import LSTM, Input, TimeDistributed\n",
    "from keras.models import Model\n",
    "from keras.optimizers import RMSprop, SGD\n",
    "import tensorflow as tf\n",
    "from sklearn.metrics import confusion_matrix\n",
    "%matplotlib inline\n",
    "import matplotlib.pyplot as plt\n",
    "\n",
    "import seaborn as sns\n",
    "\n",
    "\n"
   ]
  },
  {
   "cell_type": "markdown",
   "metadata": {},
   "source": [
    "###  Cargamos Datasets"
   ]
  },
  {
   "cell_type": "code",
   "execution_count": 5,
   "metadata": {},
   "outputs": [],
   "source": [
    "test_imagenes  = np.load('./Input/test_imagenes.npy')\n",
    "test_etiqueta  = np.load('./Input/test_etiqueta.npy')\n",
    "etiqueta_fruta = np.load('./Input/etiqueta_fruta.npy')\n",
    "imagen_fruta   = np.load('./Input/imagen_fruta.npy')\n",
    "nombre_frutas_corregido   = pd.read_csv(\"./Input/nombre_Frutas.csv\")"
   ]
  },
  {
   "cell_type": "markdown",
   "metadata": {},
   "source": [
    "### Organizamos los dataset en entrenamiento y pruebas"
   ]
  },
  {
   "cell_type": "code",
   "execution_count": 6,
   "metadata": {},
   "outputs": [
    {
     "name": "stdout",
     "output_type": "stream",
     "text": [
      "Tamaños originales: (70709, 35, 35, 3) (20624, 35, 35, 3) (70709, 63) (20624, 63)\n",
      "Tamaños cuando los modifiquemos: (70709, 3675) (20624, 3675)\n"
     ]
    }
   ],
   "source": [
    "X_train, X_test = imagen_fruta, test_imagenes\n",
    "y_train, y_test = etiqueta_fruta, test_etiqueta\n",
    "\n",
    "\n",
    "#Hago una versión aplanada para algunos de nuestros modelos.\n",
    "X_flat_train = X_train.reshape(X_train.shape[0], 35*35*3)\n",
    "X_flat_test = X_test.reshape(X_test.shape[0], 35*35*3)\n",
    "\n",
    "X_flat_train = X_flat_train/255\n",
    "X_flat_test = X_flat_test/255 \n",
    "#Categorizamos los valores de salida en un array de 50\n",
    "y_train = keras.utils.to_categorical(y_train,num_classes =63)\n",
    "y_test = keras.utils.to_categorical(y_test,num_classes =63)\n",
    "\n",
    "#d2_train_dataset = train_dataset.reshape((nsamples,nx*ny))\n",
    "print('Tamaños originales:', X_train.shape, X_test.shape, y_train.shape, y_test.shape)\n",
    "print('Tamaños cuando los modifiquemos:', X_flat_train.shape, X_flat_test.shape)"
   ]
  },
  {
   "cell_type": "markdown",
   "metadata": {},
   "source": [
    "### Entrenamos el modelo"
   ]
  },
  {
   "cell_type": "code",
   "execution_count": 7,
   "metadata": {},
   "outputs": [
    {
     "name": "stdout",
     "output_type": "stream",
     "text": [
      "Model: \"sequential_1\"\n",
      "_________________________________________________________________\n",
      "Layer (type)                 Output Shape              Param #   \n",
      "=================================================================\n",
      "dense_1 (Dense)              (None, 128)               470528    \n",
      "_________________________________________________________________\n",
      "dropout_1 (Dropout)          (None, 128)               0         \n",
      "_________________________________________________________________\n",
      "dense_2 (Dense)              (None, 28)                3612      \n",
      "_________________________________________________________________\n",
      "dropout_2 (Dropout)          (None, 28)                0         \n",
      "_________________________________________________________________\n",
      "dense_3 (Dense)              (None, 64)                1856      \n",
      "_________________________________________________________________\n",
      "dropout_3 (Dropout)          (None, 64)                0         \n",
      "_________________________________________________________________\n",
      "dense_4 (Dense)              (None, 128)               8320      \n",
      "_________________________________________________________________\n",
      "dropout_4 (Dropout)          (None, 128)               0         \n",
      "_________________________________________________________________\n",
      "dense_5 (Dense)              (None, 35)                4515      \n",
      "_________________________________________________________________\n",
      "dropout_5 (Dropout)          (None, 35)                0         \n",
      "_________________________________________________________________\n",
      "dense_6 (Dense)              (None, 63)                2268      \n",
      "=================================================================\n",
      "Total params: 491,099\n",
      "Trainable params: 491,099\n",
      "Non-trainable params: 0\n",
      "_________________________________________________________________\n",
      "Train on 70709 samples, validate on 20624 samples\n",
      "Epoch 1/25\n",
      "70709/70709 [==============================] - 5s 76us/step - loss: 2.5960 - accuracy: 0.2717 - val_loss: 2.2121 - val_accuracy: 0.3778\n",
      "Epoch 2/25\n",
      "70709/70709 [==============================] - 7s 96us/step - loss: 1.4707 - accuracy: 0.5290 - val_loss: 1.5203 - val_accuracy: 0.5730\n",
      "Epoch 3/25\n",
      "70709/70709 [==============================] - 6s 81us/step - loss: 1.0582 - accuracy: 0.6569 - val_loss: 1.0425 - val_accuracy: 0.6687\n",
      "Epoch 4/25\n",
      "70709/70709 [==============================] - 5s 72us/step - loss: 0.8428 - accuracy: 0.7263 - val_loss: 0.7906 - val_accuracy: 0.7666\n",
      "Epoch 5/25\n",
      "70709/70709 [==============================] - 8s 120us/step - loss: 0.7035 - accuracy: 0.7702 - val_loss: 0.6501 - val_accuracy: 0.7960\n",
      "Epoch 6/25\n",
      " 2304/70709 [..............................] - ETA: 16s - loss: 0.6703 - accuracy: 0.7826"
     ]
    },
    {
     "name": "stderr",
     "output_type": "stream",
     "text": [
      "/home/sergio/.local/lib/python3.8/site-packages/keras/callbacks/callbacks.py:92: RuntimeWarning: Method (on_train_batch_end) is slow compared to the batch update (0.430911). Check your callbacks.\n",
      "  warnings.warn(\n",
      "/home/sergio/.local/lib/python3.8/site-packages/keras/callbacks/callbacks.py:92: RuntimeWarning: Method (on_train_batch_end) is slow compared to the batch update (0.215776). Check your callbacks.\n",
      "  warnings.warn(\n"
     ]
    },
    {
     "name": "stdout",
     "output_type": "stream",
     "text": [
      "70709/70709 [==============================] - 8s 110us/step - loss: 0.6193 - accuracy: 0.7977 - val_loss: 0.5866 - val_accuracy: 0.8270\n",
      "Epoch 7/25\n",
      "70709/70709 [==============================] - 7s 95us/step - loss: 0.5434 - accuracy: 0.8243 - val_loss: 0.8191 - val_accuracy: 0.7626\n",
      "Epoch 8/25\n",
      "70709/70709 [==============================] - 6s 82us/step - loss: 0.4909 - accuracy: 0.8388 - val_loss: 0.5675 - val_accuracy: 0.8342\n",
      "Epoch 9/25\n",
      "70709/70709 [==============================] - 5s 75us/step - loss: 0.4489 - accuracy: 0.8548 - val_loss: 0.6736 - val_accuracy: 0.7900\n",
      "Epoch 10/25\n",
      "70709/70709 [==============================] - 7s 93us/step - loss: 0.4189 - accuracy: 0.8667 - val_loss: 0.4693 - val_accuracy: 0.8591\n",
      "Epoch 11/25\n",
      "70709/70709 [==============================] - 6s 81us/step - loss: 0.3804 - accuracy: 0.8786 - val_loss: 0.5388 - val_accuracy: 0.8481\n",
      "Epoch 12/25\n",
      "70709/70709 [==============================] - 5s 77us/step - loss: 0.3571 - accuracy: 0.8850 - val_loss: 0.4766 - val_accuracy: 0.8624\n",
      "Epoch 13/25\n",
      "70709/70709 [==============================] - 6s 80us/step - loss: 0.3371 - accuracy: 0.8940 - val_loss: 0.4046 - val_accuracy: 0.8843\n",
      "Epoch 14/25\n",
      "70709/70709 [==============================] - 7s 100us/step - loss: 0.3212 - accuracy: 0.8987 - val_loss: 0.4426 - val_accuracy: 0.8736\n",
      "Epoch 15/25\n",
      "70709/70709 [==============================] - 4s 63us/step - loss: 0.3050 - accuracy: 0.9030 - val_loss: 0.4635 - val_accuracy: 0.8671\n",
      "Epoch 16/25\n",
      "70709/70709 [==============================] - 4s 63us/step - loss: 0.2942 - accuracy: 0.9074 - val_loss: 0.5410 - val_accuracy: 0.8595\n",
      "Epoch 17/25\n",
      "70709/70709 [==============================] - 5s 65us/step - loss: 0.2801 - accuracy: 0.9124 - val_loss: 0.4102 - val_accuracy: 0.8871\n",
      "Epoch 18/25\n",
      "70709/70709 [==============================] - 8s 116us/step - loss: 0.2730 - accuracy: 0.9147 - val_loss: 0.5087 - val_accuracy: 0.8658\n",
      "Epoch 19/25\n",
      "70709/70709 [==============================] - 5s 71us/step - loss: 0.2653 - accuracy: 0.9180 - val_loss: 0.6593 - val_accuracy: 0.8520\n",
      "Epoch 20/25\n",
      "70709/70709 [==============================] - 6s 85us/step - loss: 0.2518 - accuracy: 0.9220 - val_loss: 0.5282 - val_accuracy: 0.8665\n",
      "Epoch 21/25\n",
      "70709/70709 [==============================] - 6s 79us/step - loss: 0.2474 - accuracy: 0.9239 - val_loss: 0.6653 - val_accuracy: 0.8441\n",
      "Epoch 22/25\n",
      "70709/70709 [==============================] - 6s 84us/step - loss: 0.2377 - accuracy: 0.9266 - val_loss: 0.4084 - val_accuracy: 0.8913\n",
      "Epoch 23/25\n",
      "70709/70709 [==============================] - 6s 86us/step - loss: 0.2348 - accuracy: 0.9283 - val_loss: 0.3986 - val_accuracy: 0.8950\n",
      "Epoch 24/25\n",
      "70709/70709 [==============================] - 5s 70us/step - loss: 0.2265 - accuracy: 0.9302 - val_loss: 0.3929 - val_accuracy: 0.9045\n",
      "Epoch 25/25\n",
      "70709/70709 [==============================] - 5s 67us/step - loss: 0.2270 - accuracy: 0.9317 - val_loss: 0.7690 - val_accuracy: 0.8350\n",
      "Test loss: 0.7689776866794558\n",
      "Test accuracy: 0.8350465297698975\n"
     ]
    }
   ],
   "source": [
    "model = Sequential()\n",
    "\n",
    "# Add dense layers to create a fully connected MLP\n",
    "# Note that we specify an input shape for the first layer, but only the first layer.\n",
    "# Relu is the activation function used\n",
    "model.add(Dense(128, activation='relu', input_shape=X_flat_train[1].shape))\n",
    "# Dropout layers remove features and fight overfitting\n",
    "model.add(Dropout(0.05))\n",
    "model.add(Dense(28, activation='relu'))\n",
    "model.add(Dropout(0.05))\n",
    "model.add(Dense(64, activation='relu'))\n",
    "model.add(Dropout(0.05))\n",
    "model.add(Dense(128, activation='relu'))\n",
    "model.add(Dropout(0.05))\n",
    "model.add(Dense(35, activation='relu'))\n",
    "model.add(Dropout(0.05))\n",
    "# End with a number of units equal to the number of classes we have for our outcome\n",
    "model.add(Dense(63, activation='softmax'))\n",
    "\n",
    "model.summary()\n",
    "\n",
    "# Compile the model to put it all together.\n",
    "model.compile(loss='categorical_crossentropy',\n",
    "              optimizer=RMSprop(),\n",
    "              metrics=['accuracy'])\n",
    "\n",
    "history_deep = model.fit(X_flat_train, y_train,\n",
    "                          batch_size=128,\n",
    "                          epochs=25,\n",
    "                          verbose=1,\n",
    "                          validation_data=(X_flat_test, y_test))\n",
    "score = model.evaluate(X_flat_test, y_test, verbose=0)\n",
    "print('Test loss:', score[0])\n",
    "print('Test accuracy:', score[1])"
   ]
  },
  {
   "cell_type": "code",
   "execution_count": 8,
   "metadata": {},
   "outputs": [],
   "source": [
    "model.save('./Input/modelos/path_to_my_modelTesteado.h5')\n"
   ]
  },
  {
   "cell_type": "markdown",
   "metadata": {},
   "source": [
    "### Creamos matriz de confusión"
   ]
  },
  {
   "cell_type": "code",
   "execution_count": 9,
   "metadata": {},
   "outputs": [
    {
     "data": {
      "text/plain": [
       "array([[1764,    0,    0, ...,    0,    0,    0],\n",
       "       [   0,  164,    0, ...,    0,    0,    0],\n",
       "       [   0,    0,  309, ...,    0,    0,    0],\n",
       "       ...,\n",
       "       [   1,    0,    0, ...,  166,    0,    0],\n",
       "       [   0,    0,    0, ...,    0, 1321,    0],\n",
       "       [   0,    0,    0, ...,    0,    0,  249]])"
      ]
     },
     "metadata": {},
     "output_type": "display_data"
    }
   ],
   "source": [
    "y = model.predict(X_flat_test)\n",
    "d = confusion_matrix(np.argmax(y, axis=1),np.argmax(y_test, axis=1))\n",
    "display(d)"
   ]
  },
  {
   "cell_type": "code",
   "execution_count": 10,
   "metadata": {},
   "outputs": [
    {
     "name": "stdout",
     "output_type": "stream",
     "text": [
      "[ 0  1  2  3  4  5  6  7  8  9 10 11 12 13 14 15 16 17 18 19 20 21 22 23\n",
      " 24 25 26 27 28 29 30 31 32 33 34 35 36 37 38 39 40 41 42 43 44 45 46 47\n",
      " 48 49 50 51 52 53 54 55 56 57 58 59 60 61 62]\n"
     ]
    }
   ],
   "source": [
    "print(np.unique(test_etiqueta))"
   ]
  },
  {
   "cell_type": "markdown",
   "metadata": {},
   "source": [
    "### Convertimosen un dataframe y lo preparamos para pintarlo"
   ]
  },
  {
   "cell_type": "code",
   "execution_count": 11,
   "metadata": {},
   "outputs": [
    {
     "ename": "ValueError",
     "evalue": "Shape of passed values is (63, 63), indices imply (63, 20624)",
     "output_type": "error",
     "traceback": [
      "\u001b[0;31m---------------------------------------------------------------------------\u001b[0m",
      "\u001b[0;31mValueError\u001b[0m                                Traceback (most recent call last)",
      "\u001b[0;32m~/.local/lib/python3.8/site-packages/pandas/core/internals/managers.py\u001b[0m in \u001b[0;36mcreate_block_manager_from_blocks\u001b[0;34m(blocks, axes)\u001b[0m\n\u001b[1;32m   1653\u001b[0m                 blocks = [\n\u001b[0;32m-> 1654\u001b[0;31m                     \u001b[0mmake_block\u001b[0m\u001b[0;34m(\u001b[0m\u001b[0mvalues\u001b[0m\u001b[0;34m=\u001b[0m\u001b[0mblocks\u001b[0m\u001b[0;34m[\u001b[0m\u001b[0;36m0\u001b[0m\u001b[0;34m]\u001b[0m\u001b[0;34m,\u001b[0m \u001b[0mplacement\u001b[0m\u001b[0;34m=\u001b[0m\u001b[0mslice\u001b[0m\u001b[0;34m(\u001b[0m\u001b[0;36m0\u001b[0m\u001b[0;34m,\u001b[0m \u001b[0mlen\u001b[0m\u001b[0;34m(\u001b[0m\u001b[0maxes\u001b[0m\u001b[0;34m[\u001b[0m\u001b[0;36m0\u001b[0m\u001b[0;34m]\u001b[0m\u001b[0;34m)\u001b[0m\u001b[0;34m)\u001b[0m\u001b[0;34m)\u001b[0m\u001b[0;34m\u001b[0m\u001b[0;34m\u001b[0m\u001b[0m\n\u001b[0m\u001b[1;32m   1655\u001b[0m                 ]\n",
      "\u001b[0;32m~/.local/lib/python3.8/site-packages/pandas/core/internals/blocks.py\u001b[0m in \u001b[0;36mmake_block\u001b[0;34m(values, placement, klass, ndim, dtype)\u001b[0m\n\u001b[1;32m   3046\u001b[0m \u001b[0;34m\u001b[0m\u001b[0m\n\u001b[0;32m-> 3047\u001b[0;31m     \u001b[0;32mreturn\u001b[0m \u001b[0mklass\u001b[0m\u001b[0;34m(\u001b[0m\u001b[0mvalues\u001b[0m\u001b[0;34m,\u001b[0m \u001b[0mndim\u001b[0m\u001b[0;34m=\u001b[0m\u001b[0mndim\u001b[0m\u001b[0;34m,\u001b[0m \u001b[0mplacement\u001b[0m\u001b[0;34m=\u001b[0m\u001b[0mplacement\u001b[0m\u001b[0;34m)\u001b[0m\u001b[0;34m\u001b[0m\u001b[0;34m\u001b[0m\u001b[0m\n\u001b[0m\u001b[1;32m   3048\u001b[0m \u001b[0;34m\u001b[0m\u001b[0m\n",
      "\u001b[0;32m~/.local/lib/python3.8/site-packages/pandas/core/internals/blocks.py\u001b[0m in \u001b[0;36m__init__\u001b[0;34m(self, values, placement, ndim)\u001b[0m\n\u001b[1;32m    123\u001b[0m         \u001b[0;32mif\u001b[0m \u001b[0mself\u001b[0m\u001b[0;34m.\u001b[0m\u001b[0m_validate_ndim\u001b[0m \u001b[0;32mand\u001b[0m \u001b[0mself\u001b[0m\u001b[0;34m.\u001b[0m\u001b[0mndim\u001b[0m \u001b[0;32mand\u001b[0m \u001b[0mlen\u001b[0m\u001b[0;34m(\u001b[0m\u001b[0mself\u001b[0m\u001b[0;34m.\u001b[0m\u001b[0mmgr_locs\u001b[0m\u001b[0;34m)\u001b[0m \u001b[0;34m!=\u001b[0m \u001b[0mlen\u001b[0m\u001b[0;34m(\u001b[0m\u001b[0mself\u001b[0m\u001b[0;34m.\u001b[0m\u001b[0mvalues\u001b[0m\u001b[0;34m)\u001b[0m\u001b[0;34m:\u001b[0m\u001b[0;34m\u001b[0m\u001b[0;34m\u001b[0m\u001b[0m\n\u001b[0;32m--> 124\u001b[0;31m             raise ValueError(\n\u001b[0m\u001b[1;32m    125\u001b[0m                 \u001b[0;34mf\"Wrong number of items passed {len(self.values)}, \"\u001b[0m\u001b[0;34m\u001b[0m\u001b[0;34m\u001b[0m\u001b[0m\n",
      "\u001b[0;31mValueError\u001b[0m: Wrong number of items passed 63, placement implies 20624",
      "\nDuring handling of the above exception, another exception occurred:\n",
      "\u001b[0;31mValueError\u001b[0m                                Traceback (most recent call last)",
      "\u001b[0;32m<ipython-input-11-db39a160b7fa>\u001b[0m in \u001b[0;36m<module>\u001b[0;34m\u001b[0m\n\u001b[0;32m----> 1\u001b[0;31m \u001b[0mdf_confusion\u001b[0m \u001b[0;34m=\u001b[0m \u001b[0mpd\u001b[0m\u001b[0;34m.\u001b[0m\u001b[0mDataFrame\u001b[0m\u001b[0;34m(\u001b[0m\u001b[0md\u001b[0m\u001b[0;34m,\u001b[0m\u001b[0mcolumns\u001b[0m\u001b[0;34m=\u001b[0m\u001b[0mtest_etiqueta\u001b[0m\u001b[0;34m)\u001b[0m\u001b[0;34m\u001b[0m\u001b[0;34m\u001b[0m\u001b[0m\n\u001b[0m",
      "\u001b[0;32m~/.local/lib/python3.8/site-packages/pandas/core/frame.py\u001b[0m in \u001b[0;36m__init__\u001b[0;34m(self, data, index, columns, dtype, copy)\u001b[0m\n\u001b[1;32m    462\u001b[0m                 \u001b[0mmgr\u001b[0m \u001b[0;34m=\u001b[0m \u001b[0minit_dict\u001b[0m\u001b[0;34m(\u001b[0m\u001b[0;34m{\u001b[0m\u001b[0mdata\u001b[0m\u001b[0;34m.\u001b[0m\u001b[0mname\u001b[0m\u001b[0;34m:\u001b[0m \u001b[0mdata\u001b[0m\u001b[0;34m}\u001b[0m\u001b[0;34m,\u001b[0m \u001b[0mindex\u001b[0m\u001b[0;34m,\u001b[0m \u001b[0mcolumns\u001b[0m\u001b[0;34m,\u001b[0m \u001b[0mdtype\u001b[0m\u001b[0;34m=\u001b[0m\u001b[0mdtype\u001b[0m\u001b[0;34m)\u001b[0m\u001b[0;34m\u001b[0m\u001b[0;34m\u001b[0m\u001b[0m\n\u001b[1;32m    463\u001b[0m             \u001b[0;32melse\u001b[0m\u001b[0;34m:\u001b[0m\u001b[0;34m\u001b[0m\u001b[0;34m\u001b[0m\u001b[0m\n\u001b[0;32m--> 464\u001b[0;31m                 \u001b[0mmgr\u001b[0m \u001b[0;34m=\u001b[0m \u001b[0minit_ndarray\u001b[0m\u001b[0;34m(\u001b[0m\u001b[0mdata\u001b[0m\u001b[0;34m,\u001b[0m \u001b[0mindex\u001b[0m\u001b[0;34m,\u001b[0m \u001b[0mcolumns\u001b[0m\u001b[0;34m,\u001b[0m \u001b[0mdtype\u001b[0m\u001b[0;34m=\u001b[0m\u001b[0mdtype\u001b[0m\u001b[0;34m,\u001b[0m \u001b[0mcopy\u001b[0m\u001b[0;34m=\u001b[0m\u001b[0mcopy\u001b[0m\u001b[0;34m)\u001b[0m\u001b[0;34m\u001b[0m\u001b[0;34m\u001b[0m\u001b[0m\n\u001b[0m\u001b[1;32m    465\u001b[0m \u001b[0;34m\u001b[0m\u001b[0m\n\u001b[1;32m    466\u001b[0m         \u001b[0;31m# For data is list-like, or Iterable (will consume into list)\u001b[0m\u001b[0;34m\u001b[0m\u001b[0;34m\u001b[0m\u001b[0;34m\u001b[0m\u001b[0m\n",
      "\u001b[0;32m~/.local/lib/python3.8/site-packages/pandas/core/internals/construction.py\u001b[0m in \u001b[0;36minit_ndarray\u001b[0;34m(values, index, columns, dtype, copy)\u001b[0m\n\u001b[1;32m    208\u001b[0m         \u001b[0mblock_values\u001b[0m \u001b[0;34m=\u001b[0m \u001b[0;34m[\u001b[0m\u001b[0mvalues\u001b[0m\u001b[0;34m]\u001b[0m\u001b[0;34m\u001b[0m\u001b[0;34m\u001b[0m\u001b[0m\n\u001b[1;32m    209\u001b[0m \u001b[0;34m\u001b[0m\u001b[0m\n\u001b[0;32m--> 210\u001b[0;31m     \u001b[0;32mreturn\u001b[0m \u001b[0mcreate_block_manager_from_blocks\u001b[0m\u001b[0;34m(\u001b[0m\u001b[0mblock_values\u001b[0m\u001b[0;34m,\u001b[0m \u001b[0;34m[\u001b[0m\u001b[0mcolumns\u001b[0m\u001b[0;34m,\u001b[0m \u001b[0mindex\u001b[0m\u001b[0;34m]\u001b[0m\u001b[0;34m)\u001b[0m\u001b[0;34m\u001b[0m\u001b[0;34m\u001b[0m\u001b[0m\n\u001b[0m\u001b[1;32m    211\u001b[0m \u001b[0;34m\u001b[0m\u001b[0m\n\u001b[1;32m    212\u001b[0m \u001b[0;34m\u001b[0m\u001b[0m\n",
      "\u001b[0;32m~/.local/lib/python3.8/site-packages/pandas/core/internals/managers.py\u001b[0m in \u001b[0;36mcreate_block_manager_from_blocks\u001b[0;34m(blocks, axes)\u001b[0m\n\u001b[1;32m   1662\u001b[0m         \u001b[0mblocks\u001b[0m \u001b[0;34m=\u001b[0m \u001b[0;34m[\u001b[0m\u001b[0mgetattr\u001b[0m\u001b[0;34m(\u001b[0m\u001b[0mb\u001b[0m\u001b[0;34m,\u001b[0m \u001b[0;34m\"values\"\u001b[0m\u001b[0;34m,\u001b[0m \u001b[0mb\u001b[0m\u001b[0;34m)\u001b[0m \u001b[0;32mfor\u001b[0m \u001b[0mb\u001b[0m \u001b[0;32min\u001b[0m \u001b[0mblocks\u001b[0m\u001b[0;34m]\u001b[0m\u001b[0;34m\u001b[0m\u001b[0;34m\u001b[0m\u001b[0m\n\u001b[1;32m   1663\u001b[0m         \u001b[0mtot_items\u001b[0m \u001b[0;34m=\u001b[0m \u001b[0msum\u001b[0m\u001b[0;34m(\u001b[0m\u001b[0mb\u001b[0m\u001b[0;34m.\u001b[0m\u001b[0mshape\u001b[0m\u001b[0;34m[\u001b[0m\u001b[0;36m0\u001b[0m\u001b[0;34m]\u001b[0m \u001b[0;32mfor\u001b[0m \u001b[0mb\u001b[0m \u001b[0;32min\u001b[0m \u001b[0mblocks\u001b[0m\u001b[0;34m)\u001b[0m\u001b[0;34m\u001b[0m\u001b[0;34m\u001b[0m\u001b[0m\n\u001b[0;32m-> 1664\u001b[0;31m         \u001b[0mconstruction_error\u001b[0m\u001b[0;34m(\u001b[0m\u001b[0mtot_items\u001b[0m\u001b[0;34m,\u001b[0m \u001b[0mblocks\u001b[0m\u001b[0;34m[\u001b[0m\u001b[0;36m0\u001b[0m\u001b[0;34m]\u001b[0m\u001b[0;34m.\u001b[0m\u001b[0mshape\u001b[0m\u001b[0;34m[\u001b[0m\u001b[0;36m1\u001b[0m\u001b[0;34m:\u001b[0m\u001b[0;34m]\u001b[0m\u001b[0;34m,\u001b[0m \u001b[0maxes\u001b[0m\u001b[0;34m,\u001b[0m \u001b[0me\u001b[0m\u001b[0;34m)\u001b[0m\u001b[0;34m\u001b[0m\u001b[0;34m\u001b[0m\u001b[0m\n\u001b[0m\u001b[1;32m   1665\u001b[0m \u001b[0;34m\u001b[0m\u001b[0m\n\u001b[1;32m   1666\u001b[0m \u001b[0;34m\u001b[0m\u001b[0m\n",
      "\u001b[0;32m~/.local/lib/python3.8/site-packages/pandas/core/internals/managers.py\u001b[0m in \u001b[0;36mconstruction_error\u001b[0;34m(tot_items, block_shape, axes, e)\u001b[0m\n\u001b[1;32m   1692\u001b[0m     \u001b[0;32mif\u001b[0m \u001b[0mblock_shape\u001b[0m\u001b[0;34m[\u001b[0m\u001b[0;36m0\u001b[0m\u001b[0;34m]\u001b[0m \u001b[0;34m==\u001b[0m \u001b[0;36m0\u001b[0m\u001b[0;34m:\u001b[0m\u001b[0;34m\u001b[0m\u001b[0;34m\u001b[0m\u001b[0m\n\u001b[1;32m   1693\u001b[0m         \u001b[0;32mraise\u001b[0m \u001b[0mValueError\u001b[0m\u001b[0;34m(\u001b[0m\u001b[0;34m\"Empty data passed with indices specified.\"\u001b[0m\u001b[0;34m)\u001b[0m\u001b[0;34m\u001b[0m\u001b[0;34m\u001b[0m\u001b[0m\n\u001b[0;32m-> 1694\u001b[0;31m     \u001b[0;32mraise\u001b[0m \u001b[0mValueError\u001b[0m\u001b[0;34m(\u001b[0m\u001b[0;34mf\"Shape of passed values is {passed}, indices imply {implied}\"\u001b[0m\u001b[0;34m)\u001b[0m\u001b[0;34m\u001b[0m\u001b[0;34m\u001b[0m\u001b[0m\n\u001b[0m\u001b[1;32m   1695\u001b[0m \u001b[0;34m\u001b[0m\u001b[0m\n\u001b[1;32m   1696\u001b[0m \u001b[0;34m\u001b[0m\u001b[0m\n",
      "\u001b[0;31mValueError\u001b[0m: Shape of passed values is (63, 63), indices imply (63, 20624)"
     ]
    }
   ],
   "source": [
    "df_confusion = pd.DataFrame(d,columns=nombre_frutas_corregido)"
   ]
  },
  {
   "cell_type": "code",
   "execution_count": null,
   "metadata": {},
   "outputs": [],
   "source": [
    "display(df_confusion)"
   ]
  },
  {
   "cell_type": "code",
   "execution_count": null,
   "metadata": {},
   "outputs": [],
   "source": [
    "corr_ma = df_confusion.corr()\n",
    "corr_ma[corr_ma>0.8]\n"
   ]
  },
  {
   "cell_type": "code",
   "execution_count": null,
   "metadata": {},
   "outputs": [],
   "source": [
    "f, ax = plt.subplots(figsize=(30, 20))\n",
    "\n",
    "sns.heatmap(df_confusion,annot=True)"
   ]
  },
  {
   "cell_type": "code",
   "execution_count": null,
   "metadata": {},
   "outputs": [],
   "source": []
  },
  {
   "cell_type": "code",
   "execution_count": null,
   "metadata": {},
   "outputs": [],
   "source": []
  }
 ],
 "metadata": {
  "kernelspec": {
   "display_name": "Python 3",
   "language": "python",
   "name": "python3"
  },
  "language_info": {
   "codemirror_mode": {
    "name": "ipython",
    "version": 3
   },
   "file_extension": ".py",
   "mimetype": "text/x-python",
   "name": "python",
   "nbconvert_exporter": "python",
   "pygments_lexer": "ipython3",
   "version": "3.8.2"
  }
 },
 "nbformat": 4,
 "nbformat_minor": 4
}
